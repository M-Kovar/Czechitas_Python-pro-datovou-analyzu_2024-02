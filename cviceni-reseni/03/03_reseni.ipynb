{
 "cells": [
  {
   "cell_type": "markdown",
   "metadata": {},
   "source": [
    "# 3. lekce - Cvičení 1: Spojování"
   ]
  },
  {
   "cell_type": "code",
   "execution_count": 229,
   "metadata": {},
   "outputs": [
    {
     "data": {
      "text/html": [
       "<div>\n",
       "<style scoped>\n",
       "    .dataframe tbody tr th:only-of-type {\n",
       "        vertical-align: middle;\n",
       "    }\n",
       "\n",
       "    .dataframe tbody tr th {\n",
       "        vertical-align: top;\n",
       "    }\n",
       "\n",
       "    .dataframe thead th {\n",
       "        text-align: right;\n",
       "    }\n",
       "</style>\n",
       "<table border=\"1\" class=\"dataframe\">\n",
       "  <thead>\n",
       "    <tr style=\"text-align: right;\">\n",
       "      <th></th>\n",
       "      <th>fdc_id</th>\n",
       "      <th>data_type</th>\n",
       "      <th>description</th>\n",
       "      <th>food_category_id</th>\n",
       "      <th>publication_date</th>\n",
       "      <th>nutrient_id</th>\n",
       "      <th>amount</th>\n",
       "      <th>data_points</th>\n",
       "      <th>derivation_id</th>\n",
       "      <th>min</th>\n",
       "      <th>max</th>\n",
       "      <th>median</th>\n",
       "      <th>loq</th>\n",
       "      <th>footnote</th>\n",
       "      <th>min_year_acquired</th>\n",
       "      <th>name</th>\n",
       "      <th>unit_name</th>\n",
       "    </tr>\n",
       "  </thead>\n",
       "  <tbody>\n",
       "    <tr>\n",
       "      <th>0</th>\n",
       "      <td>2644829</td>\n",
       "      <td>sub_sample_food</td>\n",
       "      <td>lentils, dry</td>\n",
       "      <td>16.0</td>\n",
       "      <td>2023-10-19</td>\n",
       "      <td>1101</td>\n",
       "      <td>1.58</td>\n",
       "      <td>1.0</td>\n",
       "      <td>1.0</td>\n",
       "      <td>NaN</td>\n",
       "      <td>NaN</td>\n",
       "      <td>NaN</td>\n",
       "      <td>NaN</td>\n",
       "      <td>NaN</td>\n",
       "      <td>NaN</td>\n",
       "      <td>Manganese, Mn</td>\n",
       "      <td>MG</td>\n",
       "    </tr>\n",
       "    <tr>\n",
       "      <th>1</th>\n",
       "      <td>2347263</td>\n",
       "      <td>sub_sample_food</td>\n",
       "      <td>heavy cream</td>\n",
       "      <td>1.0</td>\n",
       "      <td>2022-10-28</td>\n",
       "      <td>1258</td>\n",
       "      <td>20.00</td>\n",
       "      <td>1.0</td>\n",
       "      <td>1.0</td>\n",
       "      <td>NaN</td>\n",
       "      <td>NaN</td>\n",
       "      <td>NaN</td>\n",
       "      <td>NaN</td>\n",
       "      <td>NaN</td>\n",
       "      <td>NaN</td>\n",
       "      <td>Fatty acids, total saturated</td>\n",
       "      <td>G</td>\n",
       "    </tr>\n",
       "    <tr>\n",
       "      <th>2</th>\n",
       "      <td>2261954</td>\n",
       "      <td>sub_sample_food</td>\n",
       "      <td>Flour, potato</td>\n",
       "      <td>11.0</td>\n",
       "      <td>2022-04-28</td>\n",
       "      <td>1102</td>\n",
       "      <td>21.80</td>\n",
       "      <td>1.0</td>\n",
       "      <td>1.0</td>\n",
       "      <td>NaN</td>\n",
       "      <td>NaN</td>\n",
       "      <td>NaN</td>\n",
       "      <td>NaN</td>\n",
       "      <td>NaN</td>\n",
       "      <td>NaN</td>\n",
       "      <td>Molybdenum, Mo</td>\n",
       "      <td>UG</td>\n",
       "    </tr>\n",
       "    <tr>\n",
       "      <th>3</th>\n",
       "      <td>321470</td>\n",
       "      <td>sub_sample_food</td>\n",
       "      <td>Salt, Iodized</td>\n",
       "      <td>2.0</td>\n",
       "      <td>2019-04-01</td>\n",
       "      <td>1051</td>\n",
       "      <td>0.69</td>\n",
       "      <td>1.0</td>\n",
       "      <td>1.0</td>\n",
       "      <td>NaN</td>\n",
       "      <td>NaN</td>\n",
       "      <td>NaN</td>\n",
       "      <td>NaN</td>\n",
       "      <td>NaN</td>\n",
       "      <td>NaN</td>\n",
       "      <td>Water</td>\n",
       "      <td>G</td>\n",
       "    </tr>\n",
       "    <tr>\n",
       "      <th>4</th>\n",
       "      <td>321470</td>\n",
       "      <td>sub_sample_food</td>\n",
       "      <td>Salt, Iodized</td>\n",
       "      <td>2.0</td>\n",
       "      <td>2019-04-01</td>\n",
       "      <td>1007</td>\n",
       "      <td>98.40</td>\n",
       "      <td>1.0</td>\n",
       "      <td>1.0</td>\n",
       "      <td>NaN</td>\n",
       "      <td>NaN</td>\n",
       "      <td>NaN</td>\n",
       "      <td>NaN</td>\n",
       "      <td>NaN</td>\n",
       "      <td>NaN</td>\n",
       "      <td>Ash</td>\n",
       "      <td>G</td>\n",
       "    </tr>\n",
       "  </tbody>\n",
       "</table>\n",
       "</div>"
      ],
      "text/plain": [
       "    fdc_id        data_type    description  food_category_id publication_date  \\\n",
       "0  2644829  sub_sample_food   lentils, dry              16.0       2023-10-19   \n",
       "1  2347263  sub_sample_food    heavy cream               1.0       2022-10-28   \n",
       "2  2261954  sub_sample_food  Flour, potato              11.0       2022-04-28   \n",
       "3   321470  sub_sample_food  Salt, Iodized               2.0       2019-04-01   \n",
       "4   321470  sub_sample_food  Salt, Iodized               2.0       2019-04-01   \n",
       "\n",
       "   nutrient_id  amount  data_points  derivation_id  min  max  median  loq  \\\n",
       "0         1101    1.58          1.0            1.0  NaN  NaN     NaN  NaN   \n",
       "1         1258   20.00          1.0            1.0  NaN  NaN     NaN  NaN   \n",
       "2         1102   21.80          1.0            1.0  NaN  NaN     NaN  NaN   \n",
       "3         1051    0.69          1.0            1.0  NaN  NaN     NaN  NaN   \n",
       "4         1007   98.40          1.0            1.0  NaN  NaN     NaN  NaN   \n",
       "\n",
       "   footnote  min_year_acquired                          name unit_name  \n",
       "0       NaN                NaN                 Manganese, Mn        MG  \n",
       "1       NaN                NaN  Fatty acids, total saturated         G  \n",
       "2       NaN                NaN                Molybdenum, Mo        UG  \n",
       "3       NaN                NaN                         Water         G  \n",
       "4       NaN                NaN                           Ash         G  "
      ]
     },
     "execution_count": 229,
     "metadata": {},
     "output_type": "execute_result"
    }
   ],
   "source": [
    "# Příprava DataFramu food_merged pro cvičení, pokud ho ještě nemáme připravený z lekce\n",
    "import pandas as pd\n",
    "\n",
    "# url_food_sample_100 = \"https://kodim.cz/cms/assets/czechitas/python-data-1/python-pro-data-1/nacteni-dat/nacteni-dat/food_sample_100.csv\"\n",
    "# url_food_other = \"https://kodim.cz/cms/assets/czechitas/python-data-1/python-pro-data-1/spojovani/pokrocile-upravy/food_other.csv\"\n",
    "\n",
    "food_sample_100 = pd.read_csv(\"data/food_sample_100.csv\")\n",
    "food_other = pd.read_csv(\"data/food_other.csv\")\n",
    "food_nutrient = pd.read_csv(\"data/food_nutrient.csv\")\n",
    "\n",
    "food = pd.concat([food_sample_100, food_other], ignore_index=True)\n",
    "food_merged = pd.merge(food, food_nutrient, on=\"fdc_id\", how=\"inner\")\n",
    "\n",
    "food_merged.head()"
   ]
  },
  {
   "cell_type": "markdown",
   "metadata": {},
   "source": [
    "## 1. Značky a výrobci"
   ]
  },
  {
   "cell_type": "markdown",
   "metadata": {},
   "source": [
    "Stáhni si data z tabulky `branded_food.csv`, která obsahuje data o konkrétních potravinách od výrobců. Tabulku načti do `pandas` tabulky `branded_food`.\n",
    "\n",
    "Pro tabulku `branded_food` splň následující úkoly.\n",
    "\n",
    "_Nápověda: Na body 2 a 3 využij metodu, kterou jsme si již ukazovali v předchozí lekci. Její název se skládá ze dvou slov - anglického výrazu pro hodnotu a pro počet._\n"
   ]
  },
  {
   "cell_type": "code",
   "execution_count": 230,
   "metadata": {},
   "outputs": [],
   "source": [
    "# url = \"https://kodim.cz/cms/assets/czechitas/python-data-1/python-pro-data-1/spojovani/excs/znacky/branded_food.csv\"\n",
    "# branded_food = pd.read_csv(url)\n",
    "\n",
    "branded_food = pd.read_csv(\"data/branded_food.csv\")"
   ]
  },
  {
   "cell_type": "markdown",
   "metadata": {},
   "source": [
    "\n",
    "1. Zobraz si prvních několik řádků tabulky a podívej se na to, jaké jsou v ní sloupce a jaké jsou v nich hodnoty.\n"
   ]
  },
  {
   "cell_type": "code",
   "execution_count": 231,
   "metadata": {},
   "outputs": [
    {
     "data": {
      "text/html": [
       "<div>\n",
       "<style scoped>\n",
       "    .dataframe tbody tr th:only-of-type {\n",
       "        vertical-align: middle;\n",
       "    }\n",
       "\n",
       "    .dataframe tbody tr th {\n",
       "        vertical-align: top;\n",
       "    }\n",
       "\n",
       "    .dataframe thead th {\n",
       "        text-align: right;\n",
       "    }\n",
       "</style>\n",
       "<table border=\"1\" class=\"dataframe\">\n",
       "  <thead>\n",
       "    <tr style=\"text-align: right;\">\n",
       "      <th></th>\n",
       "      <th>fdc_id</th>\n",
       "      <th>brand_owner</th>\n",
       "      <th>brand_name</th>\n",
       "      <th>subbrand_name</th>\n",
       "      <th>gtin_upc</th>\n",
       "      <th>ingredients</th>\n",
       "      <th>not_a_significant_source_of</th>\n",
       "      <th>serving_size</th>\n",
       "      <th>serving_size_unit</th>\n",
       "      <th>household_serving_fulltext</th>\n",
       "      <th>branded_food_category</th>\n",
       "      <th>data_source</th>\n",
       "      <th>package_weight</th>\n",
       "      <th>modified_date</th>\n",
       "      <th>available_date</th>\n",
       "      <th>market_country</th>\n",
       "      <th>discontinued_date</th>\n",
       "      <th>preparation_state_code</th>\n",
       "      <th>trade_channel</th>\n",
       "      <th>short_description</th>\n",
       "    </tr>\n",
       "  </thead>\n",
       "  <tbody>\n",
       "    <tr>\n",
       "      <th>0</th>\n",
       "      <td>1106032</td>\n",
       "      <td>BRAKEBUSH BROTHERS INC.</td>\n",
       "      <td>NaN</td>\n",
       "      <td>NaN</td>\n",
       "      <td>10038034720202</td>\n",
       "      <td>INGREDIENTS: BONELESS CHICKEN BREAST MEAT WITH...</td>\n",
       "      <td>NaN</td>\n",
       "      <td>85.0</td>\n",
       "      <td>g</td>\n",
       "      <td>NaN</td>\n",
       "      <td>Meat/Poultry/Other Animals  Prepared/Processed</td>\n",
       "      <td>GDSN</td>\n",
       "      <td>NaN</td>\n",
       "      <td>2020-09-03</td>\n",
       "      <td>2020-11-13</td>\n",
       "      <td>United States</td>\n",
       "      <td>NaN</td>\n",
       "      <td>NaN</td>\n",
       "      <td>NaN</td>\n",
       "      <td>NaN</td>\n",
       "    </tr>\n",
       "    <tr>\n",
       "      <th>1</th>\n",
       "      <td>1107191</td>\n",
       "      <td>Mahco Inc</td>\n",
       "      <td>NaN</td>\n",
       "      <td>NaN</td>\n",
       "      <td>877448001674</td>\n",
       "      <td>TOMATO PUREE (TOMATOES), CARROTS, ONIONS, SUN-...</td>\n",
       "      <td>NaN</td>\n",
       "      <td>125.0</td>\n",
       "      <td>g</td>\n",
       "      <td>NaN</td>\n",
       "      <td>Prepared Pasta &amp; Pizza Sauces</td>\n",
       "      <td>LI</td>\n",
       "      <td>NaN</td>\n",
       "      <td>2020-09-22</td>\n",
       "      <td>2020-11-13</td>\n",
       "      <td>United States</td>\n",
       "      <td>NaN</td>\n",
       "      <td>NaN</td>\n",
       "      <td>NaN</td>\n",
       "      <td>NaN</td>\n",
       "    </tr>\n",
       "    <tr>\n",
       "      <th>2</th>\n",
       "      <td>1107295</td>\n",
       "      <td>Hormel Foods Corporation</td>\n",
       "      <td>NaN</td>\n",
       "      <td>NaN</td>\n",
       "      <td>37600665605</td>\n",
       "      <td>MASA FLOUR (GROUND WHITE CORN WITH A TRACE OF ...</td>\n",
       "      <td>NaN</td>\n",
       "      <td>30.0</td>\n",
       "      <td>g</td>\n",
       "      <td>NaN</td>\n",
       "      <td>Chips, Pretzels &amp; Snacks</td>\n",
       "      <td>LI</td>\n",
       "      <td>NaN</td>\n",
       "      <td>2020-04-08</td>\n",
       "      <td>2020-11-13</td>\n",
       "      <td>United States</td>\n",
       "      <td>NaN</td>\n",
       "      <td>NaN</td>\n",
       "      <td>NaN</td>\n",
       "      <td>NaN</td>\n",
       "    </tr>\n",
       "  </tbody>\n",
       "</table>\n",
       "</div>"
      ],
      "text/plain": [
       "    fdc_id                brand_owner brand_name subbrand_name  \\\n",
       "0  1106032    BRAKEBUSH BROTHERS INC.        NaN           NaN   \n",
       "1  1107191                  Mahco Inc        NaN           NaN   \n",
       "2  1107295  Hormel Foods Corporation         NaN           NaN   \n",
       "\n",
       "         gtin_upc                                        ingredients  \\\n",
       "0  10038034720202  INGREDIENTS: BONELESS CHICKEN BREAST MEAT WITH...   \n",
       "1    877448001674  TOMATO PUREE (TOMATOES), CARROTS, ONIONS, SUN-...   \n",
       "2     37600665605  MASA FLOUR (GROUND WHITE CORN WITH A TRACE OF ...   \n",
       "\n",
       "  not_a_significant_source_of  serving_size serving_size_unit  \\\n",
       "0                         NaN          85.0                 g   \n",
       "1                         NaN         125.0                 g   \n",
       "2                         NaN          30.0                 g   \n",
       "\n",
       "  household_serving_fulltext                           branded_food_category  \\\n",
       "0                        NaN  Meat/Poultry/Other Animals  Prepared/Processed   \n",
       "1                        NaN                   Prepared Pasta & Pizza Sauces   \n",
       "2                        NaN                        Chips, Pretzels & Snacks   \n",
       "\n",
       "  data_source package_weight modified_date available_date market_country  \\\n",
       "0        GDSN            NaN    2020-09-03     2020-11-13  United States   \n",
       "1          LI            NaN    2020-09-22     2020-11-13  United States   \n",
       "2          LI            NaN    2020-04-08     2020-11-13  United States   \n",
       "\n",
       "   discontinued_date preparation_state_code trade_channel short_description  \n",
       "0                NaN                    NaN           NaN               NaN  \n",
       "1                NaN                    NaN           NaN               NaN  \n",
       "2                NaN                    NaN           NaN               NaN  "
      ]
     },
     "execution_count": 231,
     "metadata": {},
     "output_type": "execute_result"
    }
   ],
   "source": [
    "branded_food.head(3)"
   ]
  },
  {
   "cell_type": "markdown",
   "metadata": {},
   "source": [
    "\n",
    "2. Ve sloupci `brand_owner` jsou názvy výrobců potravin. Zjisti tři výrobce s největším počtem potravin v tabulce.\n"
   ]
  },
  {
   "cell_type": "code",
   "execution_count": 232,
   "metadata": {},
   "outputs": [
    {
     "data": {
      "text/plain": [
       "brand_owner\n",
       "Wal-Mart Stores, Inc.    219\n",
       "Target Stores            199\n",
       "Meijer, Inc.             168\n",
       "Name: count, dtype: int64"
      ]
     },
     "execution_count": 232,
     "metadata": {},
     "output_type": "execute_result"
    }
   ],
   "source": [
    "branded_food[\"brand_owner\"].value_counts()[:3]\n",
    "# branded_food[\"brand_owner\"].value_counts().head(3)"
   ]
  },
  {
   "cell_type": "markdown",
   "metadata": {},
   "source": [
    "\n",
    "\n",
    "3. Ve sloupci `branded_food_category` jsou kategorie potravin. Zjisti pět kategorií s největším počtem potravin v tabulce.\n"
   ]
  },
  {
   "cell_type": "code",
   "execution_count": 233,
   "metadata": {},
   "outputs": [
    {
     "data": {
      "text/plain": [
       "branded_food_category\n",
       "Popcorn, Peanuts, Seeds & Related Snacks    504\n",
       "Candy                                       415\n",
       "Cheese                                      405\n",
       "Ice Cream & Frozen Yogurt                   310\n",
       "Cookies & Biscuits                          272\n",
       "Name: count, dtype: int64"
      ]
     },
     "execution_count": 233,
     "metadata": {},
     "output_type": "execute_result"
    }
   ],
   "source": [
    "branded_food[\"branded_food_category\"].value_counts()[:5]\n",
    "# branded_food[\"branded_food_category\"].value_counts().head(5)"
   ]
  },
  {
   "cell_type": "markdown",
   "metadata": {},
   "source": [
    "V tabulce je sloupec `fdc_id`, pomocí kterého ji můžeš propojit s tabulkou `food_merged`. \n",
    "\n",
    "Protože názvy jsou v obou tabulkách stejné, takže by bylo možné použít parametr `on`. Vyzkoušej si ale místo toho parametry `left_on` a `right_on`, kterým dáš stejnou hodnotu, tj. název sloupce `fdc_id`. \n",
    "\n",
    "Výsledek ulož do tabulky `food_merged_brands`.\n"
   ]
  },
  {
   "cell_type": "code",
   "execution_count": 234,
   "metadata": {},
   "outputs": [
    {
     "data": {
      "text/html": [
       "<div>\n",
       "<style scoped>\n",
       "    .dataframe tbody tr th:only-of-type {\n",
       "        vertical-align: middle;\n",
       "    }\n",
       "\n",
       "    .dataframe tbody tr th {\n",
       "        vertical-align: top;\n",
       "    }\n",
       "\n",
       "    .dataframe thead th {\n",
       "        text-align: right;\n",
       "    }\n",
       "</style>\n",
       "<table border=\"1\" class=\"dataframe\">\n",
       "  <thead>\n",
       "    <tr style=\"text-align: right;\">\n",
       "      <th></th>\n",
       "      <th>fdc_id</th>\n",
       "      <th>brand_owner</th>\n",
       "      <th>brand_name</th>\n",
       "      <th>subbrand_name</th>\n",
       "      <th>gtin_upc</th>\n",
       "      <th>ingredients</th>\n",
       "      <th>not_a_significant_source_of</th>\n",
       "      <th>serving_size</th>\n",
       "      <th>serving_size_unit</th>\n",
       "      <th>household_serving_fulltext</th>\n",
       "      <th>...</th>\n",
       "      <th>data_points</th>\n",
       "      <th>derivation_id</th>\n",
       "      <th>min</th>\n",
       "      <th>max</th>\n",
       "      <th>median</th>\n",
       "      <th>loq</th>\n",
       "      <th>footnote</th>\n",
       "      <th>min_year_acquired</th>\n",
       "      <th>name</th>\n",
       "      <th>unit_name</th>\n",
       "    </tr>\n",
       "  </thead>\n",
       "  <tbody>\n",
       "    <tr>\n",
       "      <th>0</th>\n",
       "      <td>379746</td>\n",
       "      <td>MARIN'S</td>\n",
       "      <td>NaN</td>\n",
       "      <td>NaN</td>\n",
       "      <td>33049105252</td>\n",
       "      <td>CORN MEAL, VEGETABLE OIL (CONTAINS ONE OR MORE...</td>\n",
       "      <td>NaN</td>\n",
       "      <td>28.0</td>\n",
       "      <td>g</td>\n",
       "      <td>1 ONZ</td>\n",
       "      <td>...</td>\n",
       "      <td>NaN</td>\n",
       "      <td>70.0</td>\n",
       "      <td>NaN</td>\n",
       "      <td>NaN</td>\n",
       "      <td>NaN</td>\n",
       "      <td>NaN</td>\n",
       "      <td>NaN</td>\n",
       "      <td>NaN</td>\n",
       "      <td>Fatty acids, total trans</td>\n",
       "      <td>G</td>\n",
       "    </tr>\n",
       "    <tr>\n",
       "      <th>1</th>\n",
       "      <td>379746</td>\n",
       "      <td>MARIN'S</td>\n",
       "      <td>NaN</td>\n",
       "      <td>NaN</td>\n",
       "      <td>33049105252</td>\n",
       "      <td>CORN MEAL, VEGETABLE OIL (CONTAINS ONE OR MORE...</td>\n",
       "      <td>NaN</td>\n",
       "      <td>28.0</td>\n",
       "      <td>g</td>\n",
       "      <td>1 ONZ</td>\n",
       "      <td>...</td>\n",
       "      <td>NaN</td>\n",
       "      <td>75.0</td>\n",
       "      <td>NaN</td>\n",
       "      <td>NaN</td>\n",
       "      <td>NaN</td>\n",
       "      <td>NaN</td>\n",
       "      <td>NaN</td>\n",
       "      <td>NaN</td>\n",
       "      <td>Cholesterol</td>\n",
       "      <td>MG</td>\n",
       "    </tr>\n",
       "    <tr>\n",
       "      <th>2</th>\n",
       "      <td>379746</td>\n",
       "      <td>MARIN'S</td>\n",
       "      <td>NaN</td>\n",
       "      <td>NaN</td>\n",
       "      <td>33049105252</td>\n",
       "      <td>CORN MEAL, VEGETABLE OIL (CONTAINS ONE OR MORE...</td>\n",
       "      <td>NaN</td>\n",
       "      <td>28.0</td>\n",
       "      <td>g</td>\n",
       "      <td>1 ONZ</td>\n",
       "      <td>...</td>\n",
       "      <td>NaN</td>\n",
       "      <td>70.0</td>\n",
       "      <td>NaN</td>\n",
       "      <td>NaN</td>\n",
       "      <td>NaN</td>\n",
       "      <td>NaN</td>\n",
       "      <td>NaN</td>\n",
       "      <td>NaN</td>\n",
       "      <td>Energy</td>\n",
       "      <td>KCAL</td>\n",
       "    </tr>\n",
       "    <tr>\n",
       "      <th>3</th>\n",
       "      <td>379746</td>\n",
       "      <td>MARIN'S</td>\n",
       "      <td>NaN</td>\n",
       "      <td>NaN</td>\n",
       "      <td>33049105252</td>\n",
       "      <td>CORN MEAL, VEGETABLE OIL (CONTAINS ONE OR MORE...</td>\n",
       "      <td>NaN</td>\n",
       "      <td>28.0</td>\n",
       "      <td>g</td>\n",
       "      <td>1 ONZ</td>\n",
       "      <td>...</td>\n",
       "      <td>NaN</td>\n",
       "      <td>75.0</td>\n",
       "      <td>NaN</td>\n",
       "      <td>NaN</td>\n",
       "      <td>NaN</td>\n",
       "      <td>NaN</td>\n",
       "      <td>NaN</td>\n",
       "      <td>NaN</td>\n",
       "      <td>Iron, Fe</td>\n",
       "      <td>MG</td>\n",
       "    </tr>\n",
       "    <tr>\n",
       "      <th>4</th>\n",
       "      <td>379746</td>\n",
       "      <td>MARIN'S</td>\n",
       "      <td>NaN</td>\n",
       "      <td>NaN</td>\n",
       "      <td>33049105252</td>\n",
       "      <td>CORN MEAL, VEGETABLE OIL (CONTAINS ONE OR MORE...</td>\n",
       "      <td>NaN</td>\n",
       "      <td>28.0</td>\n",
       "      <td>g</td>\n",
       "      <td>1 ONZ</td>\n",
       "      <td>...</td>\n",
       "      <td>NaN</td>\n",
       "      <td>75.0</td>\n",
       "      <td>NaN</td>\n",
       "      <td>NaN</td>\n",
       "      <td>NaN</td>\n",
       "      <td>NaN</td>\n",
       "      <td>NaN</td>\n",
       "      <td>NaN</td>\n",
       "      <td>Vitamin C, total ascorbic acid</td>\n",
       "      <td>MG</td>\n",
       "    </tr>\n",
       "  </tbody>\n",
       "</table>\n",
       "<p>5 rows × 36 columns</p>\n",
       "</div>"
      ],
      "text/plain": [
       "   fdc_id brand_owner brand_name subbrand_name     gtin_upc  \\\n",
       "0  379746     MARIN'S        NaN           NaN  33049105252   \n",
       "1  379746     MARIN'S        NaN           NaN  33049105252   \n",
       "2  379746     MARIN'S        NaN           NaN  33049105252   \n",
       "3  379746     MARIN'S        NaN           NaN  33049105252   \n",
       "4  379746     MARIN'S        NaN           NaN  33049105252   \n",
       "\n",
       "                                         ingredients  \\\n",
       "0  CORN MEAL, VEGETABLE OIL (CONTAINS ONE OR MORE...   \n",
       "1  CORN MEAL, VEGETABLE OIL (CONTAINS ONE OR MORE...   \n",
       "2  CORN MEAL, VEGETABLE OIL (CONTAINS ONE OR MORE...   \n",
       "3  CORN MEAL, VEGETABLE OIL (CONTAINS ONE OR MORE...   \n",
       "4  CORN MEAL, VEGETABLE OIL (CONTAINS ONE OR MORE...   \n",
       "\n",
       "  not_a_significant_source_of  serving_size serving_size_unit  \\\n",
       "0                         NaN          28.0                 g   \n",
       "1                         NaN          28.0                 g   \n",
       "2                         NaN          28.0                 g   \n",
       "3                         NaN          28.0                 g   \n",
       "4                         NaN          28.0                 g   \n",
       "\n",
       "  household_serving_fulltext  ... data_points derivation_id min max median  \\\n",
       "0                      1 ONZ  ...         NaN          70.0 NaN NaN    NaN   \n",
       "1                      1 ONZ  ...         NaN          75.0 NaN NaN    NaN   \n",
       "2                      1 ONZ  ...         NaN          70.0 NaN NaN    NaN   \n",
       "3                      1 ONZ  ...         NaN          75.0 NaN NaN    NaN   \n",
       "4                      1 ONZ  ...         NaN          75.0 NaN NaN    NaN   \n",
       "\n",
       "  loq  footnote min_year_acquired                            name unit_name  \n",
       "0 NaN       NaN               NaN        Fatty acids, total trans         G  \n",
       "1 NaN       NaN               NaN                     Cholesterol        MG  \n",
       "2 NaN       NaN               NaN                          Energy      KCAL  \n",
       "3 NaN       NaN               NaN                        Iron, Fe        MG  \n",
       "4 NaN       NaN               NaN  Vitamin C, total ascorbic acid        MG  \n",
       "\n",
       "[5 rows x 36 columns]"
      ]
     },
     "execution_count": 234,
     "metadata": {},
     "output_type": "execute_result"
    }
   ],
   "source": [
    "# food_merged_brands = pd.merge(branded_food, food_merged, on=\"fdc_id\")\n",
    "food_merged_brands = pd.merge(branded_food, food_merged, left_on=\"fdc_id\", right_on=\"fdc_id\")\n",
    "# ... pokud nevyplníme parametr \"how\", použije se výchozí hodnota inner\n",
    "\n",
    "food_merged_brands.head()"
   ]
  },
  {
   "cell_type": "markdown",
   "metadata": {},
   "source": [
    "\n",
    "Pro tabulku `food_merged_brands` splň následující úkoly.\n",
    "\n",
    "1. U výsledné tabulky `food_merged_brands` zkontroluj počet řádků a srovnej ho s původní tabulkou `food_merged`. Ubyly nějaké řádky? A čím to je?\n"
   ]
  },
  {
   "cell_type": "code",
   "execution_count": 235,
   "metadata": {},
   "outputs": [
    {
     "name": "stdout",
     "output_type": "stream",
     "text": [
      "Shape branded_food: (9541, 20)\n",
      "Shape food_merged: (531, 17)\n",
      "Shape food_merged_brands (inner merge): (315, 36)\n"
     ]
    }
   ],
   "source": [
    "# Pro ověření si vypíšeme počty řádků a sloupců původních a spojených dat\n",
    "print(f\"Shape branded_food: {branded_food.shape}\")\n",
    "print(f\"Shape food_merged: {food_merged.shape}\")\n",
    "print(f\"Shape food_merged_brands (inner merge): {food_merged_brands.shape}\")"
   ]
  },
  {
   "cell_type": "markdown",
   "metadata": {},
   "source": [
    "2. Nyní proveď operaci merge znovu, ale s parametrem `how` nastaveným na hodnotu `left`. Zkontroluj počet řádků a porovnej ho s počtem řádků tabulky `food_merged_brands`. Proč se počet liší?"
   ]
  },
  {
   "cell_type": "code",
   "execution_count": 236,
   "metadata": {},
   "outputs": [
    {
     "name": "stdout",
     "output_type": "stream",
     "text": [
      "Shape food_merged_brands (left merge): (9833, 36)\n"
     ]
    }
   ],
   "source": [
    "food_merged_brands = pd.merge(branded_food, food_merged, left_on=\"fdc_id\", right_on=\"fdc_id\", how=\"left\")\n",
    "\n",
    "print(f\"Shape food_merged_brands (left merge): {food_merged_brands.shape}\")"
   ]
  },
  {
   "cell_type": "markdown",
   "metadata": {},
   "source": [
    "**...Proč se počet liší?**\n",
    "- `food_merged_brands` spojeno výchozí metodou `inner`\n",
    "    - -> výsledek obsahuje pouze záznamy s fdc_id, která se shodují v obou vstupních tabulkách (průnik)\n",
    "- `food_merged_brands` spojeno metodou `left`\n",
    "    - -> výsledek obsahuje všechny záznamy z \"levé\" (první) vstupní tabulky plus záznamy s fdc_id, která se shodují v obou vstupních tabulkách"
   ]
  },
  {
   "cell_type": "markdown",
   "metadata": {},
   "source": [
    "## 2. Přejmenování sloupce\n",
    "\n",
    "Čím více tabulky propojujeme, tím více sloupců v nich máme. To může být časem až matoucí. \n",
    "\n",
    "Například máme v tabulce sloupec `name`, který označuje název výživné látky. \n",
    "\n",
    "Pro větší přehlednost ho přejmenujme na `nutrient_name`. K tomu slouží metoda `rename`. \n",
    "\n",
    "Níže je příklad toho, jak lze metodu použít. Pozorně si ho prohlédni. \n",
    "\n",
    "Metodu voláme pomocí tečkové notace, kterou už jsme využívali. \n",
    "\n",
    "```food_merged_brands = food_merged_brands.rename(columns={\"stary_nazev\": \"novy_nazev\"})```\n",
    "\n",
    "\n",
    "Dále je potřeba zapsat název parametru (`columns`, protože chceme přejmenovat sloupce). Jako hodnotu vkládáme strukturu, která je označováno jako slovník. Jedná se o dvojici hodnot ve složených závorkách, která je oddělená dvojtečkou. Před dvojtečkou je starý název sloupce (v našem případě to bude name) a za dvojtečkou nový název sloupce (v našem případě to bude `nutrition_name`). Uprav tedy použití metody a spusť ho. Následně zkontroluj výsledek pomocí `.columns`.\n",
    "\n"
   ]
  },
  {
   "cell_type": "code",
   "execution_count": 237,
   "metadata": {},
   "outputs": [
    {
     "name": "stdout",
     "output_type": "stream",
     "text": [
      "Sloupce před: Index(['fdc_id', 'brand_owner', 'brand_name', 'subbrand_name', 'gtin_upc',\n",
      "       'ingredients', 'not_a_significant_source_of', 'serving_size',\n",
      "       'serving_size_unit', 'household_serving_fulltext',\n",
      "       'branded_food_category', 'data_source', 'package_weight',\n",
      "       'modified_date', 'available_date', 'market_country',\n",
      "       'discontinued_date', 'preparation_state_code', 'trade_channel',\n",
      "       'short_description', 'data_type', 'description', 'food_category_id',\n",
      "       'publication_date', 'nutrient_id', 'amount', 'data_points',\n",
      "       'derivation_id', 'min', 'max', 'median', 'loq', 'footnote',\n",
      "       'min_year_acquired', 'name', 'unit_name'],\n",
      "      dtype='object')\n",
      "Sloupce po: Index(['fdc_id', 'brand_owner', 'brand_name', 'subbrand_name', 'gtin_upc',\n",
      "       'ingredients', 'not_a_significant_source_of', 'serving_size',\n",
      "       'serving_size_unit', 'household_serving_fulltext',\n",
      "       'branded_food_category', 'data_source', 'package_weight',\n",
      "       'modified_date', 'available_date', 'market_country',\n",
      "       'discontinued_date', 'preparation_state_code', 'trade_channel',\n",
      "       'short_description', 'data_type', 'description', 'food_category_id',\n",
      "       'publication_date', 'nutrient_id', 'amount', 'data_points',\n",
      "       'derivation_id', 'min', 'max', 'median', 'loq', 'footnote',\n",
      "       'min_year_acquired', 'nutrient_name', 'unit_name'],\n",
      "      dtype='object')\n"
     ]
    }
   ],
   "source": [
    "print(f\"Sloupce před: {food_merged_brands.columns}\")\n",
    "\n",
    "food_merged_brands = food_merged_brands.rename(columns={\"name\": \"nutrient_name\"})\n",
    "# ... více sloupců najednou např. jako columns={\"name\": \"nutrient_name\", \"amount\": \"nutrient_amount\"}\n",
    "\n",
    "print(f\"Sloupce po: {food_merged_brands.columns}\")"
   ]
  },
  {
   "cell_type": "markdown",
   "metadata": {},
   "source": [
    "Jako bonus se zamysli nad tím, co by se mohlo stát, pokud na místo starého názvu zadáš sloupec, který v tabulce není (např. test). \n",
    "\n",
    "Jaké chování bys od metody očekával(a)? Jakmile to budeš mít rozmyšlené, použij metodu s neexistujícím názvem sloupce a zkontroluj, co se stalo."
   ]
  },
  {
   "cell_type": "code",
   "execution_count": 238,
   "metadata": {},
   "outputs": [
    {
     "name": "stdout",
     "output_type": "stream",
     "text": [
      "Sloupce po: Index(['fdc_id', 'brand_owner', 'brand_name', 'subbrand_name', 'gtin_upc',\n",
      "       'ingredients', 'not_a_significant_source_of', 'serving_size',\n",
      "       'serving_size_unit', 'household_serving_fulltext',\n",
      "       'branded_food_category', 'data_source', 'package_weight',\n",
      "       'modified_date', 'available_date', 'market_country',\n",
      "       'discontinued_date', 'preparation_state_code', 'trade_channel',\n",
      "       'short_description', 'data_type', 'description', 'food_category_id',\n",
      "       'publication_date', 'nutrient_id', 'amount', 'data_points',\n",
      "       'derivation_id', 'min', 'max', 'median', 'loq', 'footnote',\n",
      "       'min_year_acquired', 'nutrient_name', 'unit_name'],\n",
      "      dtype='object')\n"
     ]
    }
   ],
   "source": [
    "food_merged_brands = food_merged_brands.rename(columns={\"test\": \"novy_nazev_pro_test\"})\n",
    "\n",
    "print(f\"Sloupce po: {food_merged_brands.columns}\")\n",
    "\n",
    "# ... proběhne bez chyby, sloupce a jejich názvy se nezmění\n",
    "# Toto výchozí chování lze změnit přidáním parametru errors=\"raise\" do rename()"
   ]
  },
  {
   "cell_type": "markdown",
   "metadata": {},
   "source": [
    "## 3. Odstranění sloupců"
   ]
  },
  {
   "cell_type": "markdown",
   "metadata": {},
   "source": [
    "Pokud máme v tabulce zbytečné sloupce, můžeme je odstranit. \n",
    "\n",
    "Zbytečných sloupců se můžeme zbavit dvěma způsoby:\n",
    "\n",
    "1. Výběrem sloupců, které v tabulce chceme. To už jsme si ukazovali v předchozí lekci v části \"Výběr sloupců\".\n",
    "2. Odebráním sloupců, které v tabulce nechceme. K tomu slouží metoda `drop()`.\n",
    "\n",
    "\n",
    "Níže je příklad použití metody `drop()`. Použijeme parametr `columns`, kterému zadáme seznam sloupců k odstranění.\n",
    "\n",
    "\n",
    "```\n",
    "food_merged_brands = food_merged_brands.drop(columns=[\"sloupec_1\", \"sloupec_2\"])\n",
    "```\n",
    "\n",
    "\n",
    "Využij metodu k odstranění sloupců `footnote` a `min_year_acquired`. \n"
   ]
  },
  {
   "cell_type": "markdown",
   "metadata": {},
   "source": [
    "\n",
    "Pomocí vlastnosti `.columns` zkontroluj výsledek. \n",
    "\n"
   ]
  },
  {
   "cell_type": "code",
   "execution_count": 239,
   "metadata": {},
   "outputs": [
    {
     "name": "stdout",
     "output_type": "stream",
     "text": [
      "Sloupce před: Index(['amount', 'available_date', 'brand_name', 'brand_owner',\n",
      "       'branded_food_category', 'data_points', 'data_source', 'data_type',\n",
      "       'derivation_id', 'description', 'discontinued_date', 'fdc_id',\n",
      "       'food_category_id', 'footnote', 'gtin_upc',\n",
      "       'household_serving_fulltext', 'ingredients', 'loq', 'market_country',\n",
      "       'max', 'median', 'min', 'min_year_acquired', 'modified_date',\n",
      "       'not_a_significant_source_of', 'nutrient_id', 'nutrient_name',\n",
      "       'package_weight', 'preparation_state_code', 'publication_date',\n",
      "       'serving_size', 'serving_size_unit', 'short_description',\n",
      "       'subbrand_name', 'trade_channel', 'unit_name'],\n",
      "      dtype='object')\n",
      "Sloupce po: Index(['amount', 'available_date', 'brand_name', 'brand_owner',\n",
      "       'branded_food_category', 'data_points', 'data_source', 'data_type',\n",
      "       'derivation_id', 'description', 'discontinued_date', 'fdc_id',\n",
      "       'food_category_id', 'gtin_upc', 'household_serving_fulltext',\n",
      "       'ingredients', 'loq', 'market_country', 'max', 'median', 'min',\n",
      "       'modified_date', 'not_a_significant_source_of', 'nutrient_id',\n",
      "       'nutrient_name', 'package_weight', 'preparation_state_code',\n",
      "       'publication_date', 'serving_size', 'serving_size_unit',\n",
      "       'short_description', 'subbrand_name', 'trade_channel', 'unit_name'],\n",
      "      dtype='object')\n"
     ]
    }
   ],
   "source": [
    "# Vypíšeme si názvy sloupců před úpravou a po ní\n",
    "\n",
    "# Tip: Pro přehlednost názvy sloupců seřadíme podle abecedy\n",
    "print(f\"Sloupce před: {food_merged_brands.columns.sort_values()}\")\n",
    "\n",
    "food_merged_brands_reduced = food_merged_brands.drop(columns=[\"footnote\", \"min_year_acquired\"])\n",
    "\n",
    "print(f\"Sloupce po: {food_merged_brands_reduced.columns.sort_values()}\")"
   ]
  },
  {
   "cell_type": "markdown",
   "metadata": {},
   "source": [
    "Nakonec se podobně jako v předchozím cvičení zamysli nad tím, co by se mohlo stát, kdybys do seznamu vložila neexistující název sloupce, například test. \n",
    "\n",
    "Poté metodu `drop()` s neexistujícím názvem sloupce vyzkoušej. Překvapil tě výsledek?"
   ]
  },
  {
   "cell_type": "code",
   "execution_count": 240,
   "metadata": {},
   "outputs": [],
   "source": [
    "# food_merged_brands = food_merged_brands.drop(columns=[\"neexistujici_nazev_sloupce\"])\n",
    "# ... key error\n",
    "# Podobně jako u rename() lze toto chování změnit parametrem errors=\"ignore\""
   ]
  },
  {
   "cell_type": "markdown",
   "metadata": {},
   "source": [
    "---\n",
    "\n",
    "# 3. lekce - Cvičení 2: Agregace a řazení"
   ]
  },
  {
   "cell_type": "markdown",
   "metadata": {},
   "source": [
    "## 1. Lipidy a tuky"
   ]
  },
  {
   "cell_type": "markdown",
   "metadata": {},
   "source": [
    "Podívej se nyní na to, které kategorie potravin obsahují nejvíce lipidů (tuků). "
   ]
  },
  {
   "cell_type": "markdown",
   "metadata": {},
   "source": [
    "Nejprve pomocí dotazu vytvoř novou tabulku `food_merged_brands_lipid`, do které pomocí dotazu vlož pouze řádky, které mají jako název výživné látky hodnotu `Total lipid (fat)`. \n"
   ]
  },
  {
   "cell_type": "code",
   "execution_count": 241,
   "metadata": {},
   "outputs": [
    {
     "data": {
      "text/plain": [
       "(21, 36)"
      ]
     },
     "execution_count": 241,
     "metadata": {},
     "output_type": "execute_result"
    }
   ],
   "source": [
    "# Pozor na název sloupce - v předchozím cvičení přejmenován z 'name' na 'nutrient_name'\n",
    "food_merged_brands_lipid = food_merged_brands[food_merged_brands[\"nutrient_name\"] == \"Total lipid (fat)\"]\n",
    "food_merged_brands_lipid.shape"
   ]
  },
  {
   "cell_type": "markdown",
   "metadata": {},
   "source": [
    "Poté proveď agregaci podle názvu kategorie a seřaď výslednou tabulku tak, aby nahoře byly vidět kategorie s největším počtem tuků. "
   ]
  },
  {
   "cell_type": "code",
   "execution_count": 242,
   "metadata": {},
   "outputs": [
    {
     "data": {
      "text/plain": [
       "branded_food_category\n",
       "Nut & Seed Butters                    46.880\n",
       "Other Snacks                          23.215\n",
       "Cheese                                21.430\n",
       "Cookies & Biscuits                    17.860\n",
       "Frozen Appetizers & Hors D'oeuvres    13.330\n",
       "Snack, Energy & Granola Bars          10.640\n",
       "Cake, Cookie & Cupcake Mixes           6.450\n",
       "Candy                                  5.360\n",
       "Canned Condensed Soup                  1.200\n",
       "Canned Vegetables                      0.400\n",
       "Name: amount, dtype: float64"
      ]
     },
     "execution_count": 242,
     "metadata": {},
     "output_type": "execute_result"
    }
   ],
   "source": [
    "food_merged_brands_lipid_agg = food_merged_brands_lipid.groupby(\"branded_food_category\")[\"amount\"].mean()\n",
    "\n",
    "# Pro přehlednost zobrazíme pouze prvních deset\n",
    "# lipid_agg_top10 = food_merged_brands_lipid_agg.sort_values(ascending=False)[:10]\n",
    "lipid_agg_top10 = food_merged_brands_lipid_agg.sort_values(ascending=False).head(10)\n",
    "\n",
    "# Bonus: jednodušeji pomocí metody nlargest()\n",
    "# lipid_agg_top10 = food_merged_brands_lipid_agg.nlargest(10)\n",
    "\n",
    "lipid_agg_top10"
   ]
  },
  {
   "cell_type": "markdown",
   "metadata": {},
   "source": [
    "Porovnej si výslednou tabulku s tabulkou `food_merged_brands_protein_agg`, kterou jsme vytvořili v rámci lekce. "
   ]
  },
  {
   "cell_type": "code",
   "execution_count": 243,
   "metadata": {},
   "outputs": [],
   "source": [
    "# Příprava DataFramu food_merged_brands_protein_agg pro cvičení, pokud ho ještě nemáme připravený z lekce\n",
    "food_merged_brands_protein = food_merged_brands[food_merged_brands[\"nutrient_name\"] == \"Protein\"]\n",
    "food_merged_brands_protein_agg = food_merged_brands_protein.groupby(\"branded_food_category\")[\"amount\"].mean()"
   ]
  },
  {
   "cell_type": "markdown",
   "metadata": {},
   "source": [
    "Podívej se, zda se některé kategorie objevují v obou tabulkách."
   ]
  },
  {
   "cell_type": "code",
   "execution_count": 244,
   "metadata": {},
   "outputs": [
    {
     "data": {
      "text/plain": [
       "branded_food_category\n",
       "Snack, Energy & Granola Bars          31.91\n",
       "Cheese                                25.00\n",
       "Nut & Seed Butters                    12.50\n",
       "Other Snacks                           7.14\n",
       "Rice                                   6.67\n",
       "Frozen Appetizers & Hors D'oeuvres     4.00\n",
       "Cookies & Biscuits                     3.57\n",
       "Cake, Cookie & Cupcake Mixes           3.23\n",
       "Canned Condensed Soup                  2.40\n",
       "Frozen Vegetables                      1.11\n",
       "Name: amount, dtype: float64"
      ]
     },
     "execution_count": 244,
     "metadata": {},
     "output_type": "execute_result"
    }
   ],
   "source": [
    "# protein_agg_top10 = food_merged_brands_protein_agg.sort_values(ascending=False)[:10]\n",
    "protein_agg_top10 = food_merged_brands_protein_agg.sort_values(ascending=False).head(10)\n",
    "\n",
    "# Bonus: jednodušeji pomocí metody nlargest()\n",
    "# protein_agg_top10 = food_merged_brands_protein_agg.nlargest(10)\n",
    "\n",
    "protein_agg_top10"
   ]
  },
  {
   "cell_type": "code",
   "execution_count": 245,
   "metadata": {},
   "outputs": [
    {
     "data": {
      "text/plain": [
       "{'Cake, Cookie & Cupcake Mixes',\n",
       " 'Canned Condensed Soup',\n",
       " 'Cheese',\n",
       " 'Cookies & Biscuits',\n",
       " \"Frozen Appetizers & Hors D'oeuvres\",\n",
       " 'Nut & Seed Butters',\n",
       " 'Other Snacks',\n",
       " 'Snack, Energy & Granola Bars'}"
      ]
     },
     "execution_count": 245,
     "metadata": {},
     "output_type": "execute_result"
    }
   ],
   "source": [
    "# Bonus: Výpis kategorií společných pro obě tabulky - např. jako průnik množin\n",
    "# (protein_agg_top10 je Series s názvy kategorií využitými jako index -> názvy získáme přes .index)\n",
    "set(protein_agg_top10.index) & set(lipid_agg_top10.index)"
   ]
  },
  {
   "cell_type": "markdown",
   "metadata": {},
   "source": [
    "## 2. Výrobci a kategorie"
   ]
  },
  {
   "cell_type": "markdown",
   "metadata": {},
   "source": [
    "Nyní uvažuj, že si chceme udělat přehled o tom, jaký výrobce produkuje jaké typy potravin. \n"
   ]
  },
  {
   "cell_type": "markdown",
   "metadata": {},
   "source": [
    "\n",
    "Proveď agregaci tabulky `food_merged_brands` podle dvou sloupců: `brand_owner` a `branded_food_category`. \n",
    "\n",
    "Sloupce musíš metodě `food_merged_brands` zadat jako seznam, tj. musíš použít hranaté závorky. \n",
    "\n"
   ]
  },
  {
   "cell_type": "code",
   "execution_count": 246,
   "metadata": {},
   "outputs": [
    {
     "data": {
      "text/plain": [
       "<pandas.core.groupby.generic.DataFrameGroupBy object at 0x00000207058DBAD0>"
      ]
     },
     "execution_count": 246,
     "metadata": {},
     "output_type": "execute_result"
    }
   ],
   "source": [
    "food_merged_brands_grouped = food_merged_brands.groupby([\"brand_owner\", \"branded_food_category\"])\n",
    "food_merged_brands_grouped"
   ]
  },
  {
   "cell_type": "markdown",
   "metadata": {},
   "source": [
    "\n",
    "Dále vyber sloupec `fdc_id` pro provedení agregace a použij agregaci `nunique()`, který vrátí počet unikátních hodnot. \n",
    "\n",
    "Nakonec použij metodu `sort_values` s tím, že chceš data seřadit sestupně."
   ]
  },
  {
   "cell_type": "code",
   "execution_count": 247,
   "metadata": {},
   "outputs": [
    {
     "data": {
      "text/plain": [
       "brand_owner                branded_food_category               \n",
       "Ferrara Candy Company      Candy                                   40\n",
       "CAMPBELL SOUP COMPANY      Prepared Soups                          29\n",
       "Danone US, LLC             Yogurt                                  24\n",
       "Bimbo Bakeries USA, Inc.   Breads & Buns                           24\n",
       "Wells Enterprises, Inc.    Ice Cream & Frozen Yogurt               24\n",
       "                                                                   ..\n",
       "Hempler Foods Group LLC    Sausages, Hotdogs & Brats                1\n",
       "Heinz USA                  Pickles, Olives, Peppers & Relishes      1\n",
       "Heinz Frozen Food Company  Canned Soup                              1\n",
       "Heintz & Weber Co Inc      Ketchup, Mustard, BBQ & Cheese Sauce     1\n",
       "pure batch LLC             Chocolate                                1\n",
       "Name: fdc_id, Length: 5892, dtype: int64"
      ]
     },
     "execution_count": 247,
     "metadata": {},
     "output_type": "execute_result"
    }
   ],
   "source": [
    "food_merged_brands_grouped[\"fdc_id\"].nunique().sort_values(ascending=False)"
   ]
  }
 ],
 "metadata": {
  "interpreter": {
   "hash": "aee8b7b246df8f9039afb4144a1f6fd8d2ca17a180786b69acc140d282b71a49"
  },
  "kernelspec": {
   "display_name": "Python 3.10.1 64-bit",
   "language": "python",
   "name": "python3"
  },
  "language_info": {
   "codemirror_mode": {
    "name": "ipython",
    "version": 3
   },
   "file_extension": ".py",
   "mimetype": "text/x-python",
   "name": "python",
   "nbconvert_exporter": "python",
   "pygments_lexer": "ipython3",
   "version": "3.12.1"
  },
  "orig_nbformat": 4
 },
 "nbformat": 4,
 "nbformat_minor": 2
}
